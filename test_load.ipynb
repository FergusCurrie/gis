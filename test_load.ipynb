{
 "cells": [
  {
   "cell_type": "code",
   "execution_count": null,
   "id": "0",
   "metadata": {},
   "outputs": [],
   "source": []
  },
  {
   "cell_type": "code",
   "execution_count": null,
   "id": "1",
   "metadata": {},
   "outputs": [],
   "source": [
    "import torch\n",
    "\n",
    "state_dict = torch.load(\"saved_models/model_state_dict.pth\", map_location=\"cpu\")\n",
    "state_dict"
   ]
  },
  {
   "cell_type": "code",
   "execution_count": null,
   "id": "2",
   "metadata": {},
   "outputs": [],
   "source": [
    "from gis.dino import Dinov2ForSemanticSegmentation\n",
    "\n",
    "id2label = {\n",
    "\t0: \"baclgrpimd\",\n",
    "\t1: \"track\",\n",
    "}\n",
    "\n",
    "model = Dinov2ForSemanticSegmentation.from_pretrained(\n",
    "    \"facebook/dinov2-base\", id2label=id2label, num_labels=len(id2label)\n",
    ")\n",
    "model.load_state_dict(state_dict)"
   ]
  },
  {
   "cell_type": "code",
   "execution_count": null,
   "id": "3",
   "metadata": {},
   "outputs": [],
   "source": [
    "from gis.config import Config\n",
    "\n",
    "config = Config()\n",
    "\n",
    "import os \n",
    "\n",
    "\n",
    "labels = [x for x in os.listdir(config.mnt_path / 'label/18')]\n",
    "labels\n",
    "\n",
    "coords = []\n",
    "for label in labels:\n",
    "    x,y = label.split('_')\n",
    "    x, y = int(x), int(y.replace('.npy', ''))\n",
    "    coords.append((18, x, y))\n",
    "coords\n",
    "\n",
    "import cv2 \n",
    "import matplotlib.pyplot as plt \n",
    "import numpy as np\n",
    "\n",
    "\n",
    "def load_image(coord):\n",
    "    z,x,y = coord\n",
    "    filepath = config.mnt_path / f'image/18/{z}_{x}_{y}.jpg'\n",
    "    img = cv2.imread(filepath)\n",
    "    img = cv2.cvtColor(img, cv2.COLOR_BGR2RGB)\n",
    "    return img \n",
    "\n",
    "def load_mask(coord):\n",
    "    z,x,y = coord\n",
    "    filepath = config.mnt_path / f'label/18/{x}_{y}.npy'\n",
    "    mask = np.load(filepath)\n",
    "    return mask\n",
    "\n",
    "\n",
    "images = []\n",
    "for coord in coords:\n",
    "    img = load_image(coord)\n",
    "    images.append(img)\n",
    "    #print(img)\n",
    "    break\n",
    "    mask = load_mask(coord)\n",
    "    fig, axs = plt.subplots(1,2,figsize=(10, 5))\n",
    "    axs[0].imshow(img)\n",
    "    axs[1].imshow(mask)\n",
    "    plt.show()\n",
    "image = images[0]\n",
    "plt.imshow(image)"
   ]
  },
  {
   "cell_type": "code",
   "execution_count": null,
   "id": "4",
   "metadata": {},
   "outputs": [],
   "source": [
    "import albumentations as A\n",
    "\n",
    "ADE_MEAN = np.array([123.675, 116.280, 103.530]) / 255\n",
    "ADE_STD = np.array([58.395, 57.120, 57.375]) / 255\n",
    "width = 256\n",
    "\n",
    "\n",
    "val_transform = A.Compose(\n",
    "    [\n",
    "        A.Resize(width=width, height=width),\n",
    "        A.Normalize(mean=ADE_MEAN, std=ADE_STD),\n",
    "    ]\n",
    ")\n",
    "# \n",
    "image = val_transform(image = image)['image']"
   ]
  },
  {
   "cell_type": "code",
   "execution_count": null,
   "id": "5",
   "metadata": {},
   "outputs": [],
   "source": [
    "#.unsqueeze(1)\n",
    "i = torch.from_numpy(image[np.newaxis, ...]).permute(0, 3, 1, 2)\n",
    "print(i.shape)\n",
    "\n",
    "out = model(i)[0].detach()\n",
    "print(out.shape)\n",
    "plt.imshow(out[0] > 0)"
   ]
  },
  {
   "cell_type": "code",
   "execution_count": null,
   "id": "6",
   "metadata": {},
   "outputs": [],
   "source": [
    "out[0]"
   ]
  },
  {
   "cell_type": "code",
   "execution_count": null,
   "id": "7",
   "metadata": {},
   "outputs": [],
   "source": []
  }
 ],
 "metadata": {
  "kernelspec": {
   "display_name": "gis",
   "language": "python",
   "name": "python3"
  },
  "language_info": {
   "codemirror_mode": {
    "name": "ipython",
    "version": 3
   },
   "file_extension": ".py",
   "mimetype": "text/x-python",
   "name": "python",
   "nbconvert_exporter": "python",
   "pygments_lexer": "ipython3",
   "version": "3.10.12"
  }
 },
 "nbformat": 4,
 "nbformat_minor": 5
}
