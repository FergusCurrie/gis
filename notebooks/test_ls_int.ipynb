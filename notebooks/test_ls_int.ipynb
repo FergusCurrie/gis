{
 "cells": [
  {
   "cell_type": "code",
   "execution_count": null,
   "id": "0",
   "metadata": {},
   "outputs": [],
   "source": []
  },
  {
   "cell_type": "code",
   "execution_count": null,
   "id": "1",
   "metadata": {},
   "outputs": [],
   "source": [
    "from gis.label_studio_interface import get_annotations, decode_rle, get_tile2rle, get_tile2mask, save_tiles, create_export_snapshot\n",
    "\n",
    "export = create_export_snapshot(4)\n",
    "export\n"
   ]
  },
  {
   "cell_type": "code",
   "execution_count": null,
   "id": "2",
   "metadata": {},
   "outputs": [],
   "source": [
    "annotations = get_annotations(export_pk=export['id'])\n",
    "tile2rle = get_tile2rle(annotations)\n",
    "tile2mask = get_tile2mask(tile2rle)\n",
    "print(len(tile2mask))\n",
    "\n"
   ]
  },
  {
   "cell_type": "code",
   "execution_count": null,
   "id": "3",
   "metadata": {},
   "outputs": [],
   "source": [
    "save_tiles(tile2mask)"
   ]
  },
  {
   "cell_type": "code",
   "execution_count": null,
   "id": "4",
   "metadata": {},
   "outputs": [],
   "source": []
  },
  {
   "cell_type": "code",
   "execution_count": null,
   "id": "5",
   "metadata": {},
   "outputs": [],
   "source": [
    "# from gis.config import Config\n",
    "# config = Config()\n",
    "# import numpy as np \n",
    "\n",
    "\n",
    "# def save_tiles(tile2mask: dict) -> None:\n",
    "#     for (z,x,y), mask in tile2mask.items():\n",
    "#         path = config.mnt_path / f'label/{z}/{x}_{y}.npy'\n",
    "#         np.save(file=path, arr=mask)\n",
    "\n",
    "# save_tiles(tile2mask)"
   ]
  },
  {
   "cell_type": "code",
   "execution_count": null,
   "id": "6",
   "metadata": {},
   "outputs": [],
   "source": []
  }
 ],
 "metadata": {
  "kernelspec": {
   "display_name": "gis",
   "language": "python",
   "name": "python3"
  },
  "language_info": {
   "codemirror_mode": {
    "name": "ipython",
    "version": 3
   },
   "file_extension": ".py",
   "mimetype": "text/x-python",
   "name": "python",
   "nbconvert_exporter": "python",
   "pygments_lexer": "ipython3",
   "version": "3.10.12"
  }
 },
 "nbformat": 4,
 "nbformat_minor": 5
}
