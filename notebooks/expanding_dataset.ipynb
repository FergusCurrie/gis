{
 "cells": [
  {
   "cell_type": "code",
   "execution_count": 10,
   "id": "4ca9f438",
   "metadata": {},
   "outputs": [
    {
     "data": {
      "text/plain": [
       "48"
      ]
     },
     "execution_count": 10,
     "metadata": {},
     "output_type": "execute_result"
    }
   ],
   "source": [
    "from gis.config import Config\n",
    "\n",
    "config = Config()\n",
    "\n",
    "import os \n",
    "\n",
    "\n",
    "labels = [x for x in os.listdir(config.mnt_path / 'label/18')]\n",
    "labels\n",
    "\n",
    "coords = []\n",
    "for label in labels:\n",
    "    x,y = label.split('_')\n",
    "    x, y = int(x), int(y.replace('.npy', ''))\n",
    "    coords.append((18, x, y))\n",
    "len(coords)"
   ]
  },
  {
   "cell_type": "code",
   "execution_count": 9,
   "id": "c366a5e0",
   "metadata": {},
   "outputs": [
    {
     "data": {
      "text/plain": [
       "48"
      ]
     },
     "execution_count": 9,
     "metadata": {},
     "output_type": "execute_result"
    }
   ],
   "source": [
    "import cv2 \n",
    "import matplotlib.pyplot as plt \n",
    "import numpy as np\n",
    "\n",
    "def load_mask(coord):\n",
    "    z,x,y = coord\n",
    "    filepath = config.mnt_path / f'label/18/{x}_{y}.npy'\n",
    "    mask = np.load(filepath)\n",
    "    return mask\n",
    "\n",
    "\n",
    "to_expand = [] \n",
    "for coord in coords:\n",
    "    mask = load_mask(coord)\n",
    "    has_track = np.mean(mask) > 0\n",
    "    to_expand.append(coord)\n",
    "len(to_expand)"
   ]
  },
  {
   "cell_type": "code",
   "execution_count": 11,
   "id": "ddabdae6",
   "metadata": {},
   "outputs": [
    {
     "data": {
      "text/plain": [
       "82"
      ]
     },
     "execution_count": 11,
     "metadata": {},
     "output_type": "execute_result"
    }
   ],
   "source": [
    "EXPANSION_FACTOR = 1\n",
    "new_coords = []\n",
    "for (z,x,y) in to_expand:\n",
    "    \n",
    "    for i in range(-EXPANSION_FACTOR, EXPANSION_FACTOR+1, 1):\n",
    "        for j in range(-EXPANSION_FACTOR, EXPANSION_FACTOR+1, 1):\n",
    "            new_coords.append((z, x+i, y+j))\n",
    "new_coords = list(set(new_coords))\n",
    "len(new_coords)"
   ]
  },
  {
   "cell_type": "code",
   "execution_count": 12,
   "id": "0c3b8aa4",
   "metadata": {},
   "outputs": [
    {
     "name": "stdout",
     "output_type": "stream",
     "text": [
      "Saved /mnt/gis/image/18/18_231003_155460.jpg\n",
      "Exists: /mnt/gis/image/18/18_231005_155457.jpg\n",
      "Exists: /mnt/gis/image/18/18_231004_155459.jpg\n",
      "Saved /mnt/gis/image/18/18_231006_155456.jpg\n",
      "Saved /mnt/gis/image/18/18_231010_155456.jpg\n",
      "Exists: /mnt/gis/image/18/18_231007_155457.jpg\n",
      "Saved /mnt/gis/image/18/18_231003_155462.jpg\n",
      "Exists: /mnt/gis/image/18/18_231005_155459.jpg\n",
      "Exists: /mnt/gis/image/18/18_231004_155461.jpg\n",
      "Exists: /mnt/gis/image/18/18_231006_155458.jpg\n",
      "Exists: /mnt/gis/image/18/18_231008_155461.jpg\n",
      "Exists: /mnt/gis/image/18/18_231010_155458.jpg\n",
      "Exists: /mnt/gis/image/18/18_231007_155459.jpg\n",
      "Saved /mnt/gis/image/18/18_231003_155455.jpg\n",
      "Exists: /mnt/gis/image/18/18_231005_155461.jpg\n",
      "Saved /mnt/gis/image/18/18_231004_155463.jpg\n",
      "Exists: /mnt/gis/image/18/18_231006_155460.jpg\n",
      "Saved /mnt/gis/image/18/18_231008_155463.jpg\n",
      "Exists: /mnt/gis/image/18/18_231010_155460.jpg\n",
      "Saved /mnt/gis/image/18/18_231002_155456.jpg\n",
      "Exists: /mnt/gis/image/18/18_231009_155461.jpg\n",
      "Exists: /mnt/gis/image/18/18_231003_155457.jpg\n",
      "Exists: /mnt/gis/image/18/18_231004_155456.jpg\n",
      "Exists: /mnt/gis/image/18/18_231006_155462.jpg\n",
      "Saved /mnt/gis/image/18/18_231008_155456.jpg\n",
      "Exists: /mnt/gis/image/18/18_231010_155462.jpg\n",
      "Saved /mnt/gis/image/18/18_231011_155461.jpg\n",
      "Saved /mnt/gis/image/18/18_231002_155458.jpg\n",
      "Saved /mnt/gis/image/18/18_231009_155463.jpg\n",
      "Exists: /mnt/gis/image/18/18_231003_155459.jpg\n",
      "Exists: /mnt/gis/image/18/18_231004_155458.jpg\n",
      "Saved /mnt/gis/image/18/18_231006_155455.jpg\n",
      "Exists: /mnt/gis/image/18/18_231008_155458.jpg\n",
      "Saved /mnt/gis/image/18/18_231011_155463.jpg\n",
      "Saved /mnt/gis/image/18/18_231002_155460.jpg\n",
      "Saved /mnt/gis/image/18/18_231009_155456.jpg\n",
      "Exists: /mnt/gis/image/18/18_231004_155460.jpg\n",
      "Exists: /mnt/gis/image/18/18_231006_155457.jpg\n",
      "Exists: /mnt/gis/image/18/18_231008_155460.jpg\n",
      "Exists: /mnt/gis/image/18/18_231010_155457.jpg\n",
      "Saved /mnt/gis/image/18/18_231011_155456.jpg\n",
      "Exists: /mnt/gis/image/18/18_231007_155461.jpg\n",
      "Exists: /mnt/gis/image/18/18_231009_155458.jpg\n",
      "Exists: /mnt/gis/image/18/18_231004_155462.jpg\n",
      "Exists: /mnt/gis/image/18/18_231006_155459.jpg\n",
      "Saved /mnt/gis/image/18/18_231005_155463.jpg\n",
      "Exists: /mnt/gis/image/18/18_231008_155462.jpg\n",
      "Exists: /mnt/gis/image/18/18_231010_155459.jpg\n",
      "Saved /mnt/gis/image/18/18_231011_155458.jpg\n",
      "Saved /mnt/gis/image/18/18_231002_155455.jpg\n",
      "Saved /mnt/gis/image/18/18_231007_155463.jpg\n",
      "Exists: /mnt/gis/image/18/18_231009_155460.jpg\n",
      "Saved /mnt/gis/image/18/18_231004_155455.jpg\n",
      "Exists: /mnt/gis/image/18/18_231005_155456.jpg\n",
      "Exists: /mnt/gis/image/18/18_231010_155461.jpg\n",
      "Saved /mnt/gis/image/18/18_231011_155460.jpg\n",
      "Saved /mnt/gis/image/18/18_231002_155457.jpg\n",
      "Saved /mnt/gis/image/18/18_231007_155456.jpg\n",
      "Exists: /mnt/gis/image/18/18_231009_155462.jpg\n",
      "Exists: /mnt/gis/image/18/18_231004_155457.jpg\n",
      "Saved /mnt/gis/image/18/18_231003_155461.jpg\n",
      "Exists: /mnt/gis/image/18/18_231005_155458.jpg\n",
      "Exists: /mnt/gis/image/18/18_231008_155457.jpg\n",
      "Saved /mnt/gis/image/18/18_231011_155462.jpg\n",
      "Saved /mnt/gis/image/18/18_231002_155459.jpg\n",
      "Exists: /mnt/gis/image/18/18_231007_155458.jpg\n",
      "Saved /mnt/gis/image/18/18_231003_155463.jpg\n",
      "Exists: /mnt/gis/image/18/18_231005_155460.jpg\n",
      "Exists: /mnt/gis/image/18/18_231008_155459.jpg\n",
      "Exists: /mnt/gis/image/18/18_231007_155460.jpg\n",
      "Exists: /mnt/gis/image/18/18_231009_155457.jpg\n",
      "Exists: /mnt/gis/image/18/18_231003_155456.jpg\n",
      "Exists: /mnt/gis/image/18/18_231005_155462.jpg\n",
      "Exists: /mnt/gis/image/18/18_231006_155461.jpg\n",
      "Saved /mnt/gis/image/18/18_231011_155457.jpg\n",
      "Exists: /mnt/gis/image/18/18_231007_155462.jpg\n",
      "Exists: /mnt/gis/image/18/18_231009_155459.jpg\n",
      "Exists: /mnt/gis/image/18/18_231003_155458.jpg\n",
      "Saved /mnt/gis/image/18/18_231005_155455.jpg\n",
      "Saved /mnt/gis/image/18/18_231006_155463.jpg\n",
      "Saved /mnt/gis/image/18/18_231011_155459.jpg\n",
      "Saved /mnt/gis/image/18/18_231010_155463.jpg\n"
     ]
    }
   ],
   "source": [
    "import os \n",
    "from gis.tile import download_tile\n",
    "\n",
    "added = 0\n",
    "for coord in new_coords:\n",
    "    z, x, y = coord\n",
    "    filepath = config.mnt_path / f'image/18/{z}_{x}_{y}.jpg'\n",
    "    download_tile(z, x, y)\n"
   ]
  },
  {
   "cell_type": "code",
   "execution_count": null,
   "id": "b4a28524",
   "metadata": {},
   "outputs": [],
   "source": []
  }
 ],
 "metadata": {
  "kernelspec": {
   "display_name": "gis",
   "language": "python",
   "name": "python3"
  },
  "language_info": {
   "codemirror_mode": {
    "name": "ipython",
    "version": 3
   },
   "file_extension": ".py",
   "mimetype": "text/x-python",
   "name": "python",
   "nbconvert_exporter": "python",
   "pygments_lexer": "ipython3",
   "version": "3.10.12"
  }
 },
 "nbformat": 4,
 "nbformat_minor": 5
}
