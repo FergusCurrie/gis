{
 "cells": [
  {
   "cell_type": "code",
   "execution_count": 20,
   "id": "549dc4d6",
   "metadata": {},
   "outputs": [
    {
     "data": {
      "text/plain": [
       "(82, 48)"
      ]
     },
     "execution_count": 20,
     "metadata": {},
     "output_type": "execute_result"
    }
   ],
   "source": [
    "from gis.config import Config\n",
    "\n",
    "config = Config()\n",
    "\n",
    "import os \n",
    "\n",
    "\n",
    "labels = [x for x in os.listdir(config.mnt_path / 'label/18')]\n",
    "labels\n",
    "\n",
    "images = [x for x in os.listdir(config.mnt_path / 'image/18')]\n",
    "len(images), len(labels)\n"
   ]
  },
  {
   "cell_type": "code",
   "execution_count": 21,
   "id": "0d4ca41d",
   "metadata": {},
   "outputs": [
    {
     "data": {
      "text/plain": [
       "(82, 48)"
      ]
     },
     "execution_count": 21,
     "metadata": {},
     "output_type": "execute_result"
    }
   ],
   "source": [
    "label_coords = []\n",
    "for label in labels:\n",
    "    x,y = label.split('_')\n",
    "    x, y = int(x), int(y.replace('.npy', ''))\n",
    "    label_coords.append((18, x, y))\n",
    "\n",
    "image_coords = []\n",
    "for image in images:\n",
    "    z,x,y = image.split('_')\n",
    "    x, y = int(x), int(y.replace('.jpg', ''))\n",
    "    image_coords.append((18, x, y))\n",
    "\n",
    "len(image_coords), len(label_coords)\n",
    "\n"
   ]
  },
  {
   "cell_type": "code",
   "execution_count": 22,
   "id": "3a1dae2f",
   "metadata": {},
   "outputs": [
    {
     "data": {
      "text/plain": [
       "(34, (18, 231003, 155460))"
      ]
     },
     "execution_count": 22,
     "metadata": {},
     "output_type": "execute_result"
    }
   ],
   "source": [
    "image_coords = set(image_coords)\n",
    "label_coords = set(label_coords)\n",
    "unlabelled = list(image_coords - label_coords)\n",
    "len(unlabelled), unlabelled[0]"
   ]
  },
  {
   "cell_type": "code",
   "execution_count": 23,
   "id": "addd1544",
   "metadata": {},
   "outputs": [
    {
     "data": {
      "text/plain": [
       "(18, 231003, 155460)"
      ]
     },
     "execution_count": 23,
     "metadata": {},
     "output_type": "execute_result"
    }
   ],
   "source": [
    "unlabelled[0]"
   ]
  },
  {
   "cell_type": "markdown",
   "id": "afc7cb20",
   "metadata": {},
   "source": [
    "# Upload unlabelled to label studio"
   ]
  },
  {
   "cell_type": "code",
   "execution_count": 24,
   "id": "dba2b9a8",
   "metadata": {},
   "outputs": [],
   "source": [
    "from label_studio_sdk.client import LabelStudio\n",
    "ls = LabelStudio(base_url=config.label_studio_url, api_key=config.label_studio_token)"
   ]
  }
 ],
 "metadata": {
  "kernelspec": {
   "display_name": "gis",
   "language": "python",
   "name": "python3"
  },
  "language_info": {
   "codemirror_mode": {
    "name": "ipython",
    "version": 3
   },
   "file_extension": ".py",
   "mimetype": "text/x-python",
   "name": "python",
   "nbconvert_exporter": "python",
   "pygments_lexer": "ipython3",
   "version": "3.10.12"
  }
 },
 "nbformat": 4,
 "nbformat_minor": 5
}
