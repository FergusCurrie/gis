{
 "cells": [
  {
   "cell_type": "code",
   "execution_count": null,
   "id": "0",
   "metadata": {},
   "outputs": [],
   "source": [
    "from gis.config import Config\n",
    "\n",
    "config = Config()\n",
    "\n",
    "import os \n",
    "\n",
    "\n",
    "labels = [x for x in os.listdir(config.mnt_path / 'label/18')]\n",
    "labels\n",
    "\n",
    "coords = []\n",
    "for label in labels:\n",
    "    x,y = label.split('_')\n",
    "    x, y = int(x), int(y.replace('.npy', ''))\n",
    "    coords.append((18, x, y))\n",
    "coords\n",
    "\n",
    "import cv2 \n",
    "import matplotlib.pyplot as plt \n",
    "import numpy as np\n",
    "\n",
    "\n",
    "def load_image(coord):\n",
    "    z,x,y = coord\n",
    "    filepath = config.mnt_path / f'image/18/{z}_{x}_{y}.jpg'\n",
    "    img = cv2.imread(filepath)\n",
    "    img = cv2.cvtColor(img, cv2.COLOR_BGR2RGB)\n",
    "    return img \n",
    "\n",
    "def load_mask(coord):\n",
    "    z,x,y = coord\n",
    "    filepath = config.mnt_path / f'label/18/{x}_{y}.npy'\n",
    "    mask = np.load(filepath)\n",
    "    return mask\n",
    "\n",
    "images = []\n",
    "\n",
    "for coord in coords:\n",
    "    img = load_image(coord)\n",
    "    images.append(img)\n",
    "    break\n",
    "image = images[0]\n",
    "plt.imshow(image)"
   ]
  },
  {
   "cell_type": "code",
   "execution_count": null,
   "id": "1",
   "metadata": {},
   "outputs": [],
   "source": [
    "import torch\n",
    "\n",
    "inp = torch.from_numpy(image).permute(2,0,1).unsqueeze(1)\n",
    "\n",
    "inp.shape"
   ]
  },
  {
   "cell_type": "code",
   "execution_count": null,
   "id": "2",
   "metadata": {},
   "outputs": [],
   "source": [
    "type(sam)"
   ]
  },
  {
   "cell_type": "code",
   "execution_count": null,
   "id": "3",
   "metadata": {},
   "outputs": [],
   "source": [
    "# from gis.sam import load_sam_predictor\n",
    "\n",
    "from segment_anything import sam_model_registry, SamAutomaticMaskGenerator, SamPredictor\n",
    "import torch \n",
    "\n",
    "\n",
    "SAM_CHECKPOINT = \"/home/fergus/sam.pth\"\n",
    "model_type = 'vit_h'\n",
    "device = \"cuda\"\n",
    "sam = sam_model_registry[model_type](checkpoint=SAM_CHECKPOINT)\n",
    "print(type(sam))\n",
    "\n",
    "\n",
    "with torch.no_grad():\n",
    "\timage_embedding = sam.image_encoder(inp)\n",
    "\t\n",
    "\n",
    "\t\n",
    "\n"
   ]
  },
  {
   "cell_type": "code",
   "execution_count": null,
   "id": "4",
   "metadata": {},
   "outputs": [],
   "source": []
  }
 ],
 "metadata": {
  "kernelspec": {
   "display_name": "gis",
   "language": "python",
   "name": "python3"
  },
  "language_info": {
   "codemirror_mode": {
    "name": "ipython",
    "version": 3
   },
   "file_extension": ".py",
   "mimetype": "text/x-python",
   "name": "python",
   "nbconvert_exporter": "python",
   "pygments_lexer": "ipython3",
   "version": "3.10.12"
  }
 },
 "nbformat": 4,
 "nbformat_minor": 5
}
