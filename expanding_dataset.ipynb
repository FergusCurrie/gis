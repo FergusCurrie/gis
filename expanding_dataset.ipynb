{
 "cells": [
  {
   "cell_type": "code",
   "execution_count": null,
   "id": "0",
   "metadata": {},
   "outputs": [],
   "source": [
    "from gis.config import Config\n",
    "\n",
    "config = Config()\n",
    "\n",
    "import os \n",
    "\n",
    "\n",
    "labels = [x for x in os.listdir(config.mnt_path / 'label/18')]\n",
    "labels\n",
    "\n",
    "labelled_coords = []\n",
    "for label in labels:\n",
    "    x,y = label.split('_')\n",
    "    x, y = int(x), int(y.replace('.npy', ''))\n",
    "    labelled_coords.append((18, x, y))\n",
    "len(labelled_coords)"
   ]
  },
  {
   "cell_type": "code",
   "execution_count": null,
   "id": "1",
   "metadata": {},
   "outputs": [],
   "source": [
    "import cv2 \n",
    "import matplotlib.pyplot as plt \n",
    "import numpy as np\n",
    "\n",
    "def load_mask(coord):\n",
    "    z,x,y = coord\n",
    "    filepath = config.mnt_path / f'label/18/{x}_{y}.npy'\n",
    "    mask = np.load(filepath)\n",
    "    return mask\n",
    "\n",
    "\n",
    "to_expand = [] \n",
    "for coord in labelled_coords:\n",
    "    mask = load_mask(coord)\n",
    "    has_track = np.mean(mask) > 0\n",
    "    if has_track:\n",
    "        to_expand.append(coord)\n",
    "len(to_expand)"
   ]
  },
  {
   "cell_type": "code",
   "execution_count": null,
   "id": "2",
   "metadata": {},
   "outputs": [],
   "source": [
    "to_expand[0]"
   ]
  },
  {
   "cell_type": "code",
   "execution_count": null,
   "id": "3",
   "metadata": {},
   "outputs": [],
   "source": []
  },
  {
   "cell_type": "code",
   "execution_count": null,
   "id": "4",
   "metadata": {},
   "outputs": [],
   "source": []
  },
  {
   "cell_type": "code",
   "execution_count": null,
   "id": "5",
   "metadata": {},
   "outputs": [],
   "source": [
    "from gis.image_utils import load_mask\n",
    "from gis.line import skeleton_to_wkt_multilinestring\n",
    "from gis.tile import extend_line_and_get_tiles\n",
    "from skimage import morphology\n",
    "from scipy import ndimage\n",
    "import matplotlib.pyplot as plt \n",
    "from shapely import wkt\n",
    "import shapely\n",
    "import random \n",
    "\n",
    "def get_new_tiles_for_track_direction(x,y, extend_dist=500):\n",
    "    coord = (x,y)\n",
    "    # First get the line going through mask + 2 lat/lon points on said line \n",
    "    mask = load_mask((18, coord[0], coord[1]))\n",
    "    skeleton = morphology.skeletonize(mask)\n",
    "    ls = skeleton_to_wkt_multilinestring(skeleton, coord[0],coord[1], 18)\n",
    "    result = wkt.loads(ls)\n",
    "    all_coords = []\n",
    "    for line_string in result.geoms:\n",
    "        coords_for_line = list(line_string.coords)\n",
    "        all_coords.extend(coords_for_line)\n",
    "\n",
    "    sample = random.sample(all_coords, 2)\n",
    "    coord1 = sample[0]\n",
    "    coord2 = sample[1]\n",
    "\n",
    "    lat1, lon1 = coord1[1], coord1[0]\n",
    "    lat2, lon2 = coord2[1], coord2[0]\n",
    "\n",
    "    # Get new tiles by extending this guy \n",
    "    new_tiles = extend_line_and_get_tiles(lat1, lon1, lat2, lon2, extension_distance_m=extend_dist, zoom_level=18)\n",
    "    return [(t.z, t.x, t.y) for t in new_tiles]\n",
    "\n",
    "all_new_tiles = []\n",
    "for track_tile in to_expand:\n",
    "    t_ = get_new_tiles_for_track_direction(track_tile[1],track_tile[2])\n",
    "    all_new_tiles.extend(t_)\n",
    "\n",
    "all_new_tiles = list(set(all_new_tiles))\n",
    "len(all_new_tiles)"
   ]
  },
  {
   "cell_type": "code",
   "execution_count": null,
   "id": "6",
   "metadata": {},
   "outputs": [],
   "source": [
    "# import os \n",
    "# from gis.tile import download_tile\n",
    "\n",
    "# added = 0\n",
    "# for coord in all_new_tiles:\n",
    "#     z, x, y = coord\n",
    "#     filepath = config.mnt_path / f'image/18/{z}_{x}_{y}.jpg'\n",
    "#     download_tile(z, x, y)\n"
   ]
  },
  {
   "cell_type": "code",
   "execution_count": null,
   "id": "7",
   "metadata": {},
   "outputs": [],
   "source": []
  },
  {
   "cell_type": "code",
   "execution_count": null,
   "id": "8",
   "metadata": {},
   "outputs": [],
   "source": [
    "# EXPANSION_FACTOR = 1\n",
    "# new_coords = []\n",
    "# for (z,x,y) in to_expand:\n",
    "    \n",
    "#     for i in range(-EXPANSION_FACTOR, EXPANSION_FACTOR+1, 1):\n",
    "#         for j in range(-EXPANSION_FACTOR, EXPANSION_FACTOR+1, 1):\n",
    "#             new_coords.append((z, x+i, y+j))\n",
    "# new_coords = list(set(new_coords))\n",
    "# len(new_coords)"
   ]
  },
  {
   "cell_type": "code",
   "execution_count": null,
   "id": "9",
   "metadata": {},
   "outputs": [],
   "source": []
  },
  {
   "cell_type": "code",
   "execution_count": null,
   "id": "10",
   "metadata": {},
   "outputs": [],
   "source": []
  }
 ],
 "metadata": {
  "kernelspec": {
   "display_name": "gis",
   "language": "python",
   "name": "python3"
  },
  "language_info": {
   "codemirror_mode": {
    "name": "ipython",
    "version": 3
   },
   "file_extension": ".py",
   "mimetype": "text/x-python",
   "name": "python",
   "nbconvert_exporter": "python",
   "pygments_lexer": "ipython3",
   "version": "3.10.12"
  }
 },
 "nbformat": 4,
 "nbformat_minor": 5
}
